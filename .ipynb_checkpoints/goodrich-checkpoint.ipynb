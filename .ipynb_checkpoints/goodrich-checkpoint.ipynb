{
 "cells": [
  {
   "cell_type": "code",
   "execution_count": 1,
   "metadata": {
    "collapsed": false
   },
   "outputs": [
    {
     "name": "stdout",
     "output_type": "stream",
     "text": [
      "1\n",
      "2\n",
      "5\n",
      "10\n",
      "0\n",
      "1\n",
      "1\n",
      "2\n",
      "3\n",
      "5\n",
      "8\n",
      "13\n",
      "21\n",
      "34\n",
      "55\n"
     ]
    }
   ],
   "source": [
    "#code to understand generator in python\n",
    "# generator: lazy evaluation, can produce infinite sequence, more efficient than using list\n",
    "def factors0(n):\n",
    "    results = []\n",
    "    for i in range(1,n+1):\n",
    "        if n % i == 0:\n",
    "            results.append(i)\n",
    "    return results\n",
    "\n",
    "def factors1(n):\n",
    "    for k in range(1, n+1):\n",
    "        if n % k == 0:\n",
    "            yield k\n",
    "\n",
    "def factors2(n): # generator that computes factors\n",
    "    k = 1\n",
    "    while k * k < n: # while k < sqrt(n)\n",
    "        if n % k == 0:\n",
    "            yield k\n",
    "            yield n // k  # yield two numbers \n",
    "        k += 1\n",
    "    if k * k == n: # special case if n is perfect square\n",
    "        yield k\n",
    "# the number of loops is cut to half\n",
    "\n",
    "#In fact, a generator can effectively produce an infinite series of values.\n",
    "#list based function can not do this. \n",
    "def fibonacci( ):\n",
    "    a = 0\n",
    "    b = 1\n",
    "    while True: # keep going...\n",
    "        yield a # report value, a, during this pass\n",
    "        future = a + b\n",
    "        a = b # this will be next value reported\n",
    "        b = future # and subsequently this\n",
    "\n",
    "\n",
    "for i in factors0(10): print i\n",
    "factors1(10)\n",
    "factors2(10)\n",
    "counter = 0\n",
    "for i in fibonacci():\n",
    "    print i\n",
    "    counter += 1\n",
    "    if counter > 10: break"
   ]
  },
  {
   "cell_type": "code",
   "execution_count": 3,
   "metadata": {
    "collapsed": false
   },
   "outputs": [
    {
     "name": "stdout",
     "output_type": "stream",
     "text": [
      "[[-1, -1, 2], [-1, 0, 1]]\n"
     ]
    }
   ],
   "source": [
    "class Solution:\n",
    "    # @return a tuple, (index1, index2)\n",
    "    def twoSum(self, num, target):\n",
    "    #juan ac java translate\n",
    "        dict = {}\n",
    "        for i in range(len(num)):\n",
    "            r = target-num[i]\n",
    "            if r in dict: return ( dict[ r ] , i)\n",
    "            else: dict[num[i]] = i\n",
    "        return None\n",
    "    \n",
    "    #given an array of integers, find all unique triplets that adds up to 0\n",
    "    def threeSum(self, nums):\n",
    "        nums.sort()\n",
    "        res = []\n",
    "        length = len(nums)\n",
    "        for i in range(0, length - 2):\n",
    "            if i and nums[i] == nums[i - 1]:\n",
    "                continue\n",
    "            target = nums[i] * -1\n",
    "            left, right = i + 1, length - 1\n",
    "            while left < right:\n",
    "                if nums[left] + nums[right] == target:\n",
    "                    res.append([nums[i], nums[left], nums[right]])\n",
    "                    right -= 1\n",
    "                    left += 1\n",
    "                    while left < right and nums[left] == nums[left - 1]:\n",
    "                        left += 1\n",
    "                    while left < right and nums[right] == nums[right + 1]:\n",
    "                        right -= 1\n",
    "                elif nums[left] + nums[right] > target:\n",
    "                    right -= 1\n",
    "                else:\n",
    "                    left += 1\n",
    "        return res\n",
    "sol = Solution()\n",
    "nums = [-1, 0, 1, 2, -1, -4]\n",
    "res = sol.threeSum(nums)\n",
    "print res\n",
    "    "
   ]
  }
 ],
 "metadata": {
  "kernelspec": {
   "display_name": "Python 2",
   "language": "python",
   "name": "python2"
  },
  "language_info": {
   "codemirror_mode": {
    "name": "ipython",
    "version": 2
   },
   "file_extension": ".py",
   "mimetype": "text/x-python",
   "name": "python",
   "nbconvert_exporter": "python",
   "pygments_lexer": "ipython2",
   "version": "2.7.11"
  }
 },
 "nbformat": 4,
 "nbformat_minor": 0
}
